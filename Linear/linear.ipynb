{
 "cells": [
  {
   "cell_type": "markdown",
   "metadata": {
    "deletable": true,
    "editable": true
   },
   "source": [
    "# Linear Regression using SciKit Learn"
   ]
  },
  {
   "cell_type": "markdown",
   "metadata": {
    "deletable": true,
    "editable": true
   },
   "source": [
    "Date Created: 28/03/2017\n",
    "Author: Nilesh Chaturvedi\n",
    "\n",
    "This is my first .pynb and this code is for regression.\n",
    "\n"
   ]
  },
  {
   "cell_type": "code",
   "execution_count": 21,
   "metadata": {
    "collapsed": false,
    "deletable": true,
    "editable": true
   },
   "outputs": [],
   "source": [
    "#import necessary libraries\n",
    "from sklearn import linear_model\n",
    "from sklearn.preprocessing import normalize, PolynomialFeatures\n",
    "import matplotlib.pyplot as plt\n",
    "import csv\n",
    "import numpy"
   ]
  },
  {
   "cell_type": "code",
   "execution_count": 22,
   "metadata": {
    "collapsed": false,
    "deletable": true,
    "editable": true
   },
   "outputs": [],
   "source": [
    "#Load Data\n",
    "def load_data(filename):\n",
    "    \n",
    "    file_data = csv.reader(open(filename, \"r\"), delimiter = \",\")\n",
    "    training_data = []\n",
    "    testing_data = []\n",
    "    for training_example in list(file_data)[2:]:\n",
    "        if training_example[5]!=\"NaN\":\n",
    "            training_data.append([float(feature) for feature in training_example[:6]])\n",
    "        else:\n",
    "            testing_data.append([float(feature) for feature in training_example[:5]])\n",
    "            \n",
    "    return numpy.array(training_data), numpy.array(testing_data) "
   ]
  },
  {
   "cell_type": "code",
   "execution_count": 23,
   "metadata": {
    "collapsed": false,
    "deletable": true,
    "editable": true
   },
   "outputs": [],
   "source": [
    "def linear_regression_model(training):\n",
    "    \n",
    "    # Extract the features from training data.\n",
    "    training_x = training[:,:5]\n",
    "    \n",
    "    # Extract values corresponding to every training example.\n",
    "    training_y = (training[:,5])[:,numpy.newaxis]\n",
    "    \n",
    "    \n",
    "    #normalize the data\n",
    "    normalized_x = normalize(training_x, norm='l1', axis=0)\n",
    "    normalized_y = normalize(training_y, norm='l1', axis=0)\n",
    "    \n",
    "    #Fit a linear model to the training data.\n",
    "    linear = linear_model.LinearRegression()\n",
    "    linear.fit(normalized_x, normalized_y)\n",
    "    \n",
    "    return linear"
   ]
  },
  {
   "cell_type": "code",
   "execution_count": 24,
   "metadata": {
    "collapsed": false,
    "deletable": true,
    "editable": true
   },
   "outputs": [
    {
     "name": "stdout",
     "output_type": "stream",
     "text": [
      "[ 0.25179856  0.09090909  0.07078233  0.12459372  0.13651425] : [-0.13459339]\n",
      "\n",
      "\n",
      "[ 0.16546763  0.18181818  0.18626929  0.1787649   0.18299094] : [-0.19571013]\n",
      "\n",
      "\n",
      "[ 0.15827338  0.18181818  0.18680149  0.16576381  0.17821957] : [-0.18943057]\n",
      "\n",
      "\n",
      "[ 0.15107914  0.18181818  0.20383183  0.18959913  0.18405125] : [-0.19447187]\n",
      "\n",
      "\n",
      "[ 0.15827338  0.18181818  0.19159127  0.18959913  0.17009057] : [-0.1891593]\n",
      "\n",
      "\n",
      "[ 0.11510791  0.18181818  0.16072379  0.15167931  0.14813342] : [-0.17128582]\n",
      "\n",
      "\n",
      "Linear Model Statistics \n",
      "\n",
      "Weights : [[-0.05838197 -0.54523478  0.19860675 -0.22796095 -0.58475952]] \n",
      "Bias : [ 0.02384656]\n"
     ]
    },
    {
     "data": {
      "image/png": "[encoded data removed]",
      "text/plain": [
       "<matplotlib.figure.Figure at 0x7eff06c175f8>"
      ]
     },
     "metadata": {},
     "output_type": "display_data"
    }
   ],
   "source": [
    "if __name__ == \"__main__\":\n",
    "   \n",
    "    input_data = load_data(\"data_carsmall.csv\")\n",
    "    training_data = input_data[0]\n",
    "    to_be_predicted = normalize(input_data[1], norm = 'l1', axis = 0)\n",
    "    \n",
    "    # Estimate using linear model\n",
    "    linear_model = linear_regression_model(training_data)\n",
    "    linear_model_output = linear_model.predict(to_be_predicted)\n",
    "\n",
    "    for point in range(len(to_be_predicted)):\n",
    "        print(str(to_be_predicted[point]) + \" : \" + str(linear_model_output[point]) + \"\\n\\n\")\n",
    "    \n",
    "    print(\"Linear Model Statistics \\n\\nWeights : {} \\nBias : {}\".format(linear_model.coef_, linear_model.intercept_))\n",
    "    \n",
    "    # Plot Data\n",
    "    plt.scatter(to_be_predicted[:,0], linear_model_output, label = \"Feature 1\")\n",
    "    plt.scatter(to_be_predicted[:,1], linear_model_output, label = \"Feature 2\")\n",
    "    plt.scatter(to_be_predicted[:,2], linear_model_output, label = \"Feature 3\")\n",
    "    plt.scatter(to_be_predicted[:,3], linear_model_output, label = \"Feature 4\")\n",
    "    plt.scatter(to_be_predicted[:,4], linear_model_output, label = \"Feature 5\")\n",
    "    plt.show()"
   ]
  },
  {
   "cell_type": "code",
   "execution_count": null,
   "metadata": {
    "collapsed": true,
    "deletable": true,
    "editable": true
   },
   "outputs": [],
   "source": []
  }
 ],
 "metadata": {
  "kernelspec": {
   "display_name": "Python 3",
   "language": "python",
   "name": "python3"
  },
  "language_info": {
   "codemirror_mode": {
    "name": "ipython",
    "version": 3
   },
   "file_extension": ".py",
   "mimetype": "text/x-python",
   "name": "python",
   "nbconvert_exporter": "python",
   "pygments_lexer": "ipython3",
   "version": "3.5.2+"
  }
 },
 "nbformat": 4,
 "nbformat_minor": 2
}
