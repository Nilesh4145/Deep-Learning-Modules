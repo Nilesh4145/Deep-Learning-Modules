{
 "cells": [
  {
   "cell_type": "markdown",
   "metadata": {
    "deletable": true,
    "editable": true
   },
   "source": [
    "# Polynomial Regression using SciKit Learn"
   ]
  },
  {
   "cell_type": "markdown",
   "metadata": {
    "deletable": true,
    "editable": true
   },
   "source": [
    "Date Created: 28/03/2017\n",
    "\n",
    "Author: Nilesh Chaturvedi\n",
    "\n",
    "\n",
    "\n"
   ]
  },
  {
   "cell_type": "code",
   "execution_count": 1,
   "metadata": {
    "collapsed": false,
    "deletable": true,
    "editable": true
   },
   "outputs": [],
   "source": [
    "#import necessary libraries\n",
    "from sklearn import linear_model\n",
    "from sklearn.preprocessing import normalize, PolynomialFeatures\n",
    "import matplotlib.pyplot as plt\n",
    "import csv\n",
    "import numpy"
   ]
  },
  {
   "cell_type": "code",
   "execution_count": 2,
   "metadata": {
    "collapsed": false,
    "deletable": true,
    "editable": true
   },
   "outputs": [],
   "source": [
    "#Load Data\n",
    "def load_data(filename):\n",
    "    \n",
    "    file_data = csv.reader(open(filename, \"r\"), delimiter = \",\")\n",
    "    training_data = []\n",
    "    testing_data = []\n",
    "    for training_example in list(file_data)[2:]:\n",
    "        if training_example[5]!=\"NaN\":\n",
    "            training_data.append([float(feature) for feature in training_example[:6]])\n",
    "        else:\n",
    "            testing_data.append([float(feature) for feature in training_example[:5]])\n",
    "            \n",
    "    return numpy.array(training_data), numpy.array(testing_data) "
   ]
  },
  {
   "cell_type": "code",
   "execution_count": 3,
   "metadata": {
    "collapsed": false,
    "deletable": true,
    "editable": true
   },
   "outputs": [],
   "source": [
    "def polynomial_regression_model(training):\n",
    "    \n",
    "    # Extract the features from training data.\n",
    "    training_x = training[:,:5]\n",
    "    \n",
    "    # Extract values corresponding to every training example.\n",
    "    training_y = (training[:,5])[:,numpy.newaxis]\n",
    "    \n",
    "    #normalize the data\n",
    "    normalized_x = normalize(training_x, norm='l1', axis=0)\n",
    "    normalized_y = normalize(training_y, norm='l1', axis=0)\n",
    "    \n",
    "    # Make a polynomial transform of the data.\n",
    "    feature_transform = PolynomialFeatures(degree=2)\n",
    "    polynomial_x = feature_transform.fit_transform(normalized_x)\n",
    "    \n",
    "    #Fit linear model to transformed data\n",
    "    polynomial = linear_model.LinearRegression()\n",
    "    polynomial.fit(polynomial_x, normalized_y)\n",
    "    \n",
    "    return polynomial"
   ]
  },
  {
   "cell_type": "code",
   "execution_count": null,
   "metadata": {
    "collapsed": false,
    "deletable": true,
    "editable": true
   },
   "outputs": [],
   "source": [
    "if __name__ == \"__main__\":\n",
    "   \n",
    "    input_data = load_data(\"data_carsmall.csv\")\n",
    "    training_data = input_data[0]\n",
    "    \n",
    "    normalized_test = normalize(input_data[1], norm = 'l1', axis = 0)\n",
    "    feature_transform = PolynomialFeatures(degree=2)\n",
    "    to_be_predicted = feature_transform.fit_transform(normalized_test)\n",
    "    \n",
    "    #Estimate using polynomial model\n",
    "    polynomial_model = polynomial_regression_model(training_data)\n",
    "    polynomial_model_output = polynomial_model.predict(to_be_predicted )\n",
    "    \n",
    "    for point in range(len(to_be_predicted)):\n",
    "        print(str(to_be_predicted[point]) + \" : \" + str(polynomial_model_output[point]) + \"\\n\\n\")\n",
    "        \n",
    "    print(\"Polynomial Model Statistics \\n\\nWeights : {} \\nBias : {}\".format(polynomial_model.coef_, polynomial_model.intercept_))\n",
    "    \n",
    "    plt.scatter(to_be_predicted[:,0], polynomial_model_output, label = \"Feature 1\")\n",
    "    plt.scatter(to_be_predicted[:,1], polynomial_model_output, label = \"Feature 2\")\n",
    "    plt.scatter(to_be_predicted[:,2], polynomial_model_output, label = \"Feature 3\")\n",
    "    plt.scatter(to_be_predicted[:,3], polynomial_model_output, label = \"Feature 4\")\n",
    "    plt.scatter(to_be_predicted[:,4], polynomial_model_output, label = \"Feature 5\")\n",
    "    plt.show()"
   ]
  }
 ],
 "metadata": {
  "kernelspec": {
   "display_name": "Python 3",
   "language": "python",
   "name": "python3"
  },
  "language_info": {
   "codemirror_mode": {
    "name": "ipython",
    "version": 3
   },
   "file_extension": ".py",
   "mimetype": "text/x-python",
   "name": "python",
   "nbconvert_exporter": "python",
   "pygments_lexer": "ipython3",
   "version": "3.5.2+"
  }
 },
 "nbformat": 4,
 "nbformat_minor": 2
}
